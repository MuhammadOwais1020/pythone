{
 "cells": [
  {
   "cell_type": "code",
   "execution_count": 1,
   "id": "d4d277d2",
   "metadata": {},
   "outputs": [],
   "source": [
    "import pandas as pd\n",
    "import re"
   ]
  },
  {
   "cell_type": "code",
   "execution_count": 2,
   "id": "7b98616d",
   "metadata": {},
   "outputs": [],
   "source": [
    "nd = pd.read_csv(\"FruitNutritionsDetails.csv\") #nd = nutrition details"
   ]
  },
  {
   "cell_type": "code",
   "execution_count": 3,
   "id": "280eed9d",
   "metadata": {},
   "outputs": [],
   "source": [
    "fn = list(nd['Fruit name']) #fn = fruit name\n",
    "fd = list(nd['Description']) #fd = fruit description\n",
    "n = list(nd['Nutritions']) # n = Nutritions\n",
    "good_for = list(nd['Good for'])\n",
    "bad_for = list(nd['Bad for'])"
   ]
  },
  {
   "cell_type": "code",
   "execution_count": 4,
   "id": "4fd83374",
   "metadata": {},
   "outputs": [],
   "source": [
    "fruits = {}\n",
    "i = 0\n",
    "for fruit_name in fn:\n",
    "    fruits[fruit_name] = {\n",
    "        \"description\" : fd[i],\n",
    "        \"nutrition\" : n[i].split(\",\"),\n",
    "        \"good_for\" : good_for[i].split(\",\"),\n",
    "        \"bad_for\" : bad_for[i].split(\",\")\n",
    "    }\n",
    "    i = i + 1\n",
    "    \n",
    "    "
   ]
  },
  {
   "cell_type": "code",
   "execution_count": 5,
   "id": "a6933236",
   "metadata": {},
   "outputs": [
    {
     "data": {
      "text/plain": [
       "{'description': 'Good for the heart health,skin also promote to weight loss',\n",
       " 'nutrition': ['95 calories',\n",
       "  '25.13g of carbohydrate',\n",
       "  '4.4g of fiber',\n",
       "  '195mg of potassium',\n",
       "  '11mg calcium',\n",
       "  '8.4mg vitamin C'],\n",
       " 'good_for': ['Stroke',\n",
       "  'Cholesterol',\n",
       "  'Heart health',\n",
       "  'Cancer',\n",
       "  'Obesity',\n",
       "  'fever'],\n",
       " 'bad_for': ['High calories',\n",
       "  'Loose Stools',\n",
       "  'Stomachache',\n",
       "  'Pesticides',\n",
       "  'Allergies']}"
      ]
     },
     "execution_count": 5,
     "metadata": {},
     "output_type": "execute_result"
    }
   ],
   "source": [
    "fruits[\"apple\"]"
   ]
  },
  {
   "cell_type": "code",
   "execution_count": 6,
   "id": "dbe7a7f4",
   "metadata": {},
   "outputs": [
    {
     "data": {
      "text/plain": [
       "'Good for the heart health,skin also promote to weight loss'"
      ]
     },
     "execution_count": 6,
     "metadata": {},
     "output_type": "execute_result"
    }
   ],
   "source": [
    "fruits[\"apple\"][\"description\"]\n",
    "    "
   ]
  },
  {
   "cell_type": "code",
   "execution_count": 7,
   "id": "edc542f7",
   "metadata": {},
   "outputs": [
    {
     "data": {
      "text/plain": [
       "['Stroke', 'Cholesterol', 'Heart health', 'Cancer', 'Obesity', 'fever']"
      ]
     },
     "execution_count": 7,
     "metadata": {},
     "output_type": "execute_result"
    }
   ],
   "source": [
    "fruits[\"apple\"][\"good_for\"]"
   ]
  },
  {
   "cell_type": "code",
   "execution_count": 8,
   "id": "2a00f318",
   "metadata": {},
   "outputs": [
    {
     "name": "stdout",
     "output_type": "stream",
     "text": [
      "true\n"
     ]
    }
   ],
   "source": [
    "if \"fever\" in fruits[\"apple\"][\"good_for\"]:\n",
    "    print(\"true\")\n",
    "else:\n",
    "    print(\"false\")"
   ]
  },
  {
   "cell_type": "code",
   "execution_count": null,
   "id": "d772413d",
   "metadata": {},
   "outputs": [],
   "source": []
  }
 ],
 "metadata": {
  "kernelspec": {
   "display_name": "Python 3",
   "language": "python",
   "name": "python3"
  },
  "language_info": {
   "codemirror_mode": {
    "name": "ipython",
    "version": 3
   },
   "file_extension": ".py",
   "mimetype": "text/x-python",
   "name": "python",
   "nbconvert_exporter": "python",
   "pygments_lexer": "ipython3",
   "version": "3.8.8"
  }
 },
 "nbformat": 4,
 "nbformat_minor": 5
}
